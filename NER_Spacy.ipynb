{
  "nbformat": 4,
  "nbformat_minor": 0,
  "metadata": {
    "colab": {
      "provenance": []
    },
    "kernelspec": {
      "name": "python3",
      "display_name": "Python 3"
    },
    "language_info": {
      "name": "python"
    }
  },
  "cells": [
    {
      "cell_type": "code",
      "execution_count": null,
      "metadata": {
        "id": "61H2Dq1ykQPh"
      },
      "outputs": [],
      "source": [
        "import spacy\n",
        "\n",
        "import pandas as pd\n",
        "import os\n",
        "from tqdm import tqdm\n",
        "from spacy.tokens import DocBin"
      ]
    },
    {
      "cell_type": "code",
      "source": [
        "ner = spacy.load(\"en_core_web_sm\")"
      ],
      "metadata": {
        "id": "yWWIX5gklaIv"
      },
      "execution_count": null,
      "outputs": []
    },
    {
      "cell_type": "code",
      "source": [
        "import json\n",
        "def create_dataset(path):\n",
        "    datasets = []\n",
        "    with open(path, 'r') as f:\n",
        "        datas = json.load(f)\n",
        "\n",
        "    for data in datas:\n",
        "        entities = []\n",
        "        for entity in data['annotations'][1]['entities']:\n",
        "            entities.append((entity[0], entity[1], entity[2]))\n",
        "        datasets.append((data['annotations'][0], {\"entities\": entities}))\n",
        "\n",
        "    return datasets\n",
        "\n",
        "path = \"/content/dex_annotations.json\"\n",
        "\n",
        "train = create_dataset(path)\n"
      ],
      "metadata": {
        "id": "1_rn6-bYlqEn"
      },
      "execution_count": null,
      "outputs": []
    },
    {
      "cell_type": "code",
      "source": [
        "db = DocBin() # create a DocBin object\n",
        "\n",
        "for text, annot in tqdm(train): # data in previous format\n",
        "    doc = nlp.make_doc(text) # create doc object from text\n",
        "    ents = []\n",
        "    for start, end, label in annot[\"entities\"]: # add character indexes\n",
        "        span = doc.char_span(start, end, label=label, alignment_mode=\"contract\")\n",
        "        if span is None:\n",
        "            print(\"Skipping entity\")\n",
        "        else:\n",
        "            ents.append(span)\n",
        "    doc.ents = ents # label the text with the ents\n",
        "    db.add(doc)\n",
        "\n",
        "db.to_disk(\"./train.spacy\")"
      ],
      "metadata": {
        "id": "vNsr94cnpjmS"
      },
      "execution_count": null,
      "outputs": []
    },
    {
      "cell_type": "code",
      "source": [
        "!!python -m spacy init fill-config base_config.cfg config.cfg"
      ],
      "metadata": {
        "id": "mq2t5buqpJrm"
      },
      "execution_count": null,
      "outputs": []
    },
    {
      "cell_type": "code",
      "source": [
        "!!python -m spacy train config.cfg --output ./output --paths.train ./train.spacy --paths.dev ./train.spacy"
      ],
      "metadata": {
        "id": "152oOg3tpNfD"
      },
      "execution_count": null,
      "outputs": []
    },
    {
      "cell_type": "code",
      "source": [
        "ner1 = spacy.load(r\"./output/model-best\")"
      ],
      "metadata": {
        "id": "szYRkwMmpYHu"
      },
      "execution_count": null,
      "outputs": []
    }
  ]
}